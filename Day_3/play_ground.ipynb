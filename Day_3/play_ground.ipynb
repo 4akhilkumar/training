{
 "cells": [
  {
   "cell_type": "code",
   "execution_count": 3,
   "metadata": {},
   "outputs": [
    {
     "name": "stdout",
     "output_type": "stream",
     "text": [
      "<class 'int'> 5\n"
     ]
    }
   ],
   "source": [
    "def sum_of_numbers(first_number: int, second_number: int) -> int:\n",
    "    \"\"\"\n",
    "    This function is addition of two numbers\n",
    "\n",
    "    Args:\n",
    "        first_number (int): first number\n",
    "        second_number (int): second number\n",
    "\n",
    "    Returns:\n",
    "        int: sum of two numbers\n",
    "    \"\"\"\n",
    "\n",
    "    return first_number + second_number\n",
    "\n",
    "\n",
    "# Now Call the sum_of_numbers function\n",
    "sum_of_nums = sum_of_numbers(2, 3)\n",
    "\n",
    "print(type(sum_of_nums), sum_of_nums)"
   ]
  },
  {
   "cell_type": "code",
   "execution_count": 4,
   "metadata": {},
   "outputs": [
    {
     "name": "stdout",
     "output_type": "stream",
     "text": [
      "5.0\n"
     ]
    }
   ],
   "source": [
    "import math\n",
    "\n",
    "result = math.sqrt(25)\n",
    "\n",
    "print(result)"
   ]
  },
  {
   "cell_type": "markdown",
   "metadata": {},
   "source": [
    "pip install <module_name>"
   ]
  },
  {
   "cell_type": "code",
   "execution_count": 20,
   "metadata": {},
   "outputs": [
    {
     "name": "stdout",
     "output_type": "stream",
     "text": [
      "['apples', 'bananas', 'milk', 'eggs', 'Almonds', 'Vegetables']\n",
      "['apples', 'bananas', 'milk', 'eggs', 'Vegetables']\n"
     ]
    }
   ],
   "source": [
    "grocer_list = [\"apples\", \"bananas\", \"milk\", \"eggs\", \"Almonds\"]\n",
    "# print(grocer_list, type(grocer_list))\n",
    "\n",
    "\n",
    "weekly_plan = (\"Monday: Gym\", \"Tuesday: Work\", \"Wednesday: Dinner with Friends\")\n",
    "# print(weekly_plan)\n",
    "\n",
    "# Accessing the elements\n",
    "# print(grocer_list[1])\n",
    "\n",
    "# Negative indexing\n",
    "# print(grocer_list[-3])\n",
    "\n",
    "# Slicing the list\n",
    "slicing_grocer_list = grocer_list[2:4]\n",
    "# print(slicing_grocer_list)\n",
    "\n",
    "# Modify the list\n",
    "grocer_list.append(\"Vegetables\")\n",
    "print(grocer_list)\n",
    "\n",
    "# Removing the item from the list\n",
    "grocer_list.remove(\"Almonds\")\n",
    "\n",
    "print(grocer_list)"
   ]
  }
 ],
 "metadata": {
  "kernelspec": {
   "display_name": "Python 3",
   "language": "python",
   "name": "python3"
  },
  "language_info": {
   "codemirror_mode": {
    "name": "ipython",
    "version": 3
   },
   "file_extension": ".py",
   "mimetype": "text/x-python",
   "name": "python",
   "nbconvert_exporter": "python",
   "pygments_lexer": "ipython3",
   "version": "3.8.10"
  },
  "orig_nbformat": 4
 },
 "nbformat": 4,
 "nbformat_minor": 2
}
